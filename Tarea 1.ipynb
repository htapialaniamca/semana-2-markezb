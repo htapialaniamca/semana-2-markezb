{
 "cells": [
  {
   "cell_type": "markdown",
   "metadata": {},
   "source": [
    "# Tarea 1"
   ]
  },
  {
   "cell_type": "markdown",
   "metadata": {},
   "source": [
    "1.- Estudiar la informacion contenida en el archivo /.ipython/profile_default/security/ipcontroller-client.json y explicar en un parrafo que significa.\n",
    "\n",
    "El archivo ipcontroller-client.json es la información de conexión del cliente cluster   \n",
    "\n",
    "{  \n",
    "    \"url\":\"tcp://192.168.1.123:56951\",  \n",
    "    \"exec_key\":\"26f4c040-587d-4a4e-b58b-030b96399584\",  \n",
    "    \"ssh\":\"user@example.com\",  \n",
    "    \"location\":\"192.168.1.123\"  \n",
    "}  \n",
    "\n",
    "Contiene la url y el puerto de conexión, el ssh que sirve para indicar el lugar donde se encuentran los motores fuera LAN donde se encuentra el controlador."
   ]
  },
  {
   "cell_type": "markdown",
   "metadata": {
    "collapsed": false
   },
   "source": [
    "2.- Investigar el uso de los metodos apply,apply_sync de las instancias DirectView (el objeto dview) y discutir las diferencias con map y map_sync, por medio de ejemplos.\n",
    "\n",
    "> apply es el método principal para hacer execuciones remotas, cuando el objeto DirectView.block = True envia el comando al controlador, el cual coloca el comando en la cola de motores para su ejecución."
   ]
  },
  {
   "cell_type": "code",
   "execution_count": 3,
   "metadata": {
    "collapsed": true
   },
   "outputs": [],
   "source": [
    "import numpy as np\n",
    "import ipyparallel as ipp"
   ]
  },
  {
   "cell_type": "code",
   "execution_count": 4,
   "metadata": {
    "collapsed": false
   },
   "outputs": [
    {
     "data": {
      "text/plain": [
       "[0, 1, 2, 3]"
      ]
     },
     "execution_count": 4,
     "metadata": {},
     "output_type": "execute_result"
    }
   ],
   "source": [
    "c = ipp.Client()\n",
    "c.ids"
   ]
  },
  {
   "cell_type": "code",
   "execution_count": 5,
   "metadata": {
    "collapsed": false
   },
   "outputs": [
    {
     "data": {
      "text/plain": [
       "[42, 42, 42, 42]"
      ]
     },
     "execution_count": 5,
     "metadata": {},
     "output_type": "execute_result"
    }
   ],
   "source": [
    "dview = c[:] #se asignan todos los motores\n",
    "dview.block=False\n",
    "dview['a'] = 5\n",
    "dview['b'] = 10\n",
    "dview.apply_sync(lambda x: a+b+x, 27)"
   ]
  },
  {
   "cell_type": "markdown",
   "metadata": {},
   "source": [
    "> Si el objeto DirectView.block = False, envía el comando para ser ejecutado y regresa un resultado asíncrono inmediatamente, es decir, no espera a que termine la ejecución en otro motor."
   ]
  },
  {
   "cell_type": "code",
   "execution_count": 6,
   "metadata": {
    "collapsed": false
   },
   "outputs": [
    {
     "data": {
      "text/plain": [
       "<AsyncResult: <lambda>>"
      ]
     },
     "execution_count": 6,
     "metadata": {},
     "output_type": "execute_result"
    }
   ],
   "source": [
    "dview.block=False\n",
    "dview['a'] = 5\n",
    "dview['b'] = 10\n",
    "dview.apply(lambda x: a+b+x, 27)"
   ]
  },
  {
   "cell_type": "code",
   "execution_count": 7,
   "metadata": {
    "collapsed": false
   },
   "outputs": [
    {
     "data": {
      "text/plain": [
       "[42, 42, 42, 42]"
      ]
     },
     "execution_count": 7,
     "metadata": {},
     "output_type": "execute_result"
    }
   ],
   "source": [
    "dview.block=False\n",
    "dview['a'] = 5\n",
    "dview['b'] = 10\n",
    "dview.apply_sync(lambda x: a+b+x, 27)"
   ]
  },
  {
   "cell_type": "markdown",
   "metadata": {},
   "source": [
    "> La función map() permite aplicar una función a una secuencia elemento-a-elemento (de forma serial)"
   ]
  },
  {
   "cell_type": "code",
   "execution_count": 8,
   "metadata": {
    "collapsed": true
   },
   "outputs": [],
   "source": [
    "def cube(x):\n",
    "    return x**3"
   ]
  },
  {
   "cell_type": "code",
   "execution_count": 9,
   "metadata": {
    "collapsed": false
   },
   "outputs": [
    {
     "name": "stdout",
     "output_type": "stream",
     "text": [
      "[1, 8, 27, 64, 125, 216]\n"
     ]
    }
   ],
   "source": [
    "serial_result = map(cube, range(1,7))\n",
    "print serial_result"
   ]
  },
  {
   "cell_type": "markdown",
   "metadata": {},
   "source": [
    "> La función map_sync() permite aplicar una función a toda la secuencia de forma paralela."
   ]
  },
  {
   "cell_type": "code",
   "execution_count": 10,
   "metadata": {
    "collapsed": false
   },
   "outputs": [
    {
     "name": "stdout",
     "output_type": "stream",
     "text": [
      "[1, 8, 27, 64, 125, 216]\n"
     ]
    }
   ],
   "source": [
    "parallel_result = dview.map_sync(cube, range(1,7))\n",
    "print parallel_result"
   ]
  },
  {
   "cell_type": "code",
   "execution_count": 11,
   "metadata": {
    "collapsed": false
   },
   "outputs": [
    {
     "data": {
      "text/plain": [
       "True"
      ]
     },
     "execution_count": 11,
     "metadata": {},
     "output_type": "execute_result"
    }
   ],
   "source": [
    "serial_result == parallel_result"
   ]
  },
  {
   "cell_type": "markdown",
   "metadata": {},
   "source": [
    "3.- Determinar que partes de un programa que encuentra los primeros 5000 primos de Mersenne son paralelizables y sugerir como podrian paralelizarlo"
   ]
  },
  {
   "cell_type": "code",
   "execution_count": 25,
   "metadata": {
    "collapsed": false
   },
   "outputs": [],
   "source": [
    "PrimeQ=lambda x: all(x % i != 0 for i in range(int(x**0.5)+1)[2:]) and x>1"
   ]
  },
  {
   "cell_type": "markdown",
   "metadata": {},
   "source": [
    "> Se puede paralelizar la parte del for, ya que éste consume demaciados recursos (memoria en este caso) al iterar y hacer calculos para cada elemento de la lista, secuencialmente. Se pudiera paralelizar esta parte dividiendo la lista en listas más pequeñas, aplicando la función a cada una de ellas, de froma paralela."
   ]
  },
  {
   "cell_type": "markdown",
   "metadata": {},
   "source": [
    "4.- Aplicar el metodo apply y/o map descritos aqui al programa que selecciona los primos de Mersenne de entre los primeros 5000 numeros enteros"
   ]
  },
  {
   "cell_type": "code",
   "execution_count": 12,
   "metadata": {
    "collapsed": true
   },
   "outputs": [],
   "source": [
    "def PrimeQ2(x):\n",
    "    primos = []\n",
    "    import numpy as np\n",
    "    lista = np.arange(np.int(x**0.5)+1)[2:]\n",
    "    residuos = np.mod(x, lista)\n",
    "    if (np.all(residuos)):\n",
    "        return x\n",
    "    else:\n",
    "        return 0"
   ]
  },
  {
   "cell_type": "code",
   "execution_count": 13,
   "metadata": {
    "collapsed": false
   },
   "outputs": [],
   "source": [
    "lista = dview.map_sync(PrimeQ2, 2**np.arange(10)-1)"
   ]
  },
  {
   "cell_type": "code",
   "execution_count": 14,
   "metadata": {
    "collapsed": false
   },
   "outputs": [
    {
     "name": "stdout",
     "output_type": "stream",
     "text": [
      "[0, 1, 3, 7, 0, 31, 0, 127, 0, 0]\n"
     ]
    }
   ],
   "source": [
    "print lista"
   ]
  },
  {
   "cell_type": "code",
   "execution_count": null,
   "metadata": {
    "collapsed": true
   },
   "outputs": [],
   "source": []
  }
 ],
 "metadata": {
  "kernelspec": {
   "display_name": "Python [Root]",
   "language": "python",
   "name": "Python [Root]"
  },
  "language_info": {
   "codemirror_mode": {
    "name": "ipython",
    "version": 2
   },
   "file_extension": ".py",
   "mimetype": "text/x-python",
   "name": "python",
   "nbconvert_exporter": "python",
   "pygments_lexer": "ipython2",
   "version": "2.7.13"
  }
 },
 "nbformat": 4,
 "nbformat_minor": 2
}
