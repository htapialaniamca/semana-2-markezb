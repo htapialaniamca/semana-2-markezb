{
 "cells": [
  {
   "cell_type": "markdown",
   "metadata": {},
   "source": [
    "# Práctica con raspi para encender leds"
   ]
  },
  {
   "cell_type": "markdown",
   "metadata": {},
   "source": [
    "Primero cambiamos el archivo machinefile y colocamos únicamente los host que vamos a ocupar, el maestro y el esclavo."
   ]
  },
  {
   "cell_type": "markdown",
   "metadata": {},
   "source": [
    "![Titulo](Practica\\p2.png)"
   ]
  },
  {
   "cell_type": "markdown",
   "metadata": {},
   "source": [
    "Posteriormente, copiamos el archivo ledequipo4.py al nodo 3, utilizando la instrucción scp ledequipo4.py pi@rpi-lania3.local:/home/pi/comades/python/, luego se ejecuta la instrucción mpirun.openmpi -np 2 -machinefile machinefile python ledequipo4.py para ejecutar la rutina de leds."
   ]
  },
  {
   "cell_type": "markdown",
   "metadata": {},
   "source": [
    "![Titulo](Practica\\p1.png)"
   ]
  },
  {
   "cell_type": "code",
   "execution_count": null,
   "metadata": {
    "collapsed": true
   },
   "outputs": [],
   "source": []
  }
 ],
 "metadata": {
  "kernelspec": {
   "display_name": "Python [Root]",
   "language": "python",
   "name": "Python [Root]"
  },
  "language_info": {
   "codemirror_mode": {
    "name": "ipython",
    "version": 2
   },
   "file_extension": ".py",
   "mimetype": "text/x-python",
   "name": "python",
   "nbconvert_exporter": "python",
   "pygments_lexer": "ipython2",
   "version": "2.7.12"
  }
 },
 "nbformat": 4,
 "nbformat_minor": 0
}
